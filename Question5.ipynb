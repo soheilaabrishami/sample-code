{
 "cells": [
  {
   "cell_type": "markdown",
   "metadata": {},
   "source": [
    "## Option A: Distributions\n",
    "\n",
    "In order to see if the average speeds are materially the same in all weeks of September, I performed t-student test. And \n",
    "I tested the null hypothesis that the means are equal for pair of weeks. \n",
    "\n",
    "As results (p_values) show, only for week 2 and week 3 the null hypothesis with confidence 88% is correct. However,\n",
    "for other pairs of weeks we reject the null hypothesis since the p_values are almost 0. Therefore, we conclude that speed is different in each week and it can be dependent of the week of the month.\n"
   ]
  },
  {
   "cell_type": "code",
   "execution_count": 1,
   "metadata": {
    "collapsed": false
   },
   "outputs": [],
   "source": [
    "import pandas as pd\n",
    "import matplotlib.pyplot as plt\n",
    "from scipy.stats import ttest_ind, f_oneway\n",
    "import warnings\n",
    "warnings.filterwarnings('ignore')"
   ]
  },
  {
   "cell_type": "code",
   "execution_count": 2,
   "metadata": {
    "collapsed": true
   },
   "outputs": [],
   "source": [
    "df = pd.read_csv(\"green_tripdata_2015-09.csv\")"
   ]
  },
  {
   "cell_type": "code",
   "execution_count": 3,
   "metadata": {
    "collapsed": false
   },
   "outputs": [
    {
     "name": "stdout",
     "output_type": "stream",
     "text": [
      "      speed_average\n",
      "week               \n",
      "1         13.544372\n",
      "2         12.853491\n",
      "3         12.855787\n",
      "4         13.335422\n",
      "5         12.667384\n",
      "\n",
      "******statistic, p-values******\n",
      "\n"
     ]
    },
    {
     "data": {
      "text/html": [
       "<div>\n",
       "<table border=\"1\" class=\"dataframe\">\n",
       "  <thead>\n",
       "    <tr style=\"text-align: right;\">\n",
       "      <th></th>\n",
       "      <th>w1</th>\n",
       "      <th>w2</th>\n",
       "      <th>(statistic, p_values)</th>\n",
       "    </tr>\n",
       "  </thead>\n",
       "  <tbody>\n",
       "    <tr>\n",
       "      <th>0</th>\n",
       "      <td>1</td>\n",
       "      <td>1</td>\n",
       "      <td>(0.0, 1.0)</td>\n",
       "    </tr>\n",
       "    <tr>\n",
       "      <th>1</th>\n",
       "      <td>1</td>\n",
       "      <td>2</td>\n",
       "      <td>(39.8323206601, 0.0)</td>\n",
       "    </tr>\n",
       "    <tr>\n",
       "      <th>2</th>\n",
       "      <td>1</td>\n",
       "      <td>3</td>\n",
       "      <td>(40.1850384325, 0.0)</td>\n",
       "    </tr>\n",
       "    <tr>\n",
       "      <th>3</th>\n",
       "      <td>1</td>\n",
       "      <td>4</td>\n",
       "      <td>(11.8466318799, 2.25801146566e-32)</td>\n",
       "    </tr>\n",
       "    <tr>\n",
       "      <th>4</th>\n",
       "      <td>1</td>\n",
       "      <td>5</td>\n",
       "      <td>(37.9202329795, 0.0)</td>\n",
       "    </tr>\n",
       "    <tr>\n",
       "      <th>5</th>\n",
       "      <td>2</td>\n",
       "      <td>1</td>\n",
       "      <td>(-39.8323206601, 0.0)</td>\n",
       "    </tr>\n",
       "    <tr>\n",
       "      <th>6</th>\n",
       "      <td>2</td>\n",
       "      <td>2</td>\n",
       "      <td>(0.0, 1.0)</td>\n",
       "    </tr>\n",
       "    <tr>\n",
       "      <th>7</th>\n",
       "      <td>2</td>\n",
       "      <td>3</td>\n",
       "      <td>(-0.14214919032, 0.88696220452)</td>\n",
       "    </tr>\n",
       "    <tr>\n",
       "      <th>8</th>\n",
       "      <td>2</td>\n",
       "      <td>4</td>\n",
       "      <td>(-28.981354722, 1.45873910445e-184)</td>\n",
       "    </tr>\n",
       "    <tr>\n",
       "      <th>9</th>\n",
       "      <td>2</td>\n",
       "      <td>5</td>\n",
       "      <td>(8.37975316934, 5.31765468368e-17)</td>\n",
       "    </tr>\n",
       "    <tr>\n",
       "      <th>10</th>\n",
       "      <td>3</td>\n",
       "      <td>1</td>\n",
       "      <td>(-40.1850384325, 0.0)</td>\n",
       "    </tr>\n",
       "    <tr>\n",
       "      <th>11</th>\n",
       "      <td>3</td>\n",
       "      <td>2</td>\n",
       "      <td>(0.14214919032, 0.88696220452)</td>\n",
       "    </tr>\n",
       "    <tr>\n",
       "      <th>12</th>\n",
       "      <td>3</td>\n",
       "      <td>3</td>\n",
       "      <td>(0.0, 1.0)</td>\n",
       "    </tr>\n",
       "    <tr>\n",
       "      <th>13</th>\n",
       "      <td>3</td>\n",
       "      <td>4</td>\n",
       "      <td>(-29.1745623621, 5.30687764038e-187)</td>\n",
       "    </tr>\n",
       "    <tr>\n",
       "      <th>14</th>\n",
       "      <td>3</td>\n",
       "      <td>5</td>\n",
       "      <td>(8.64694819308, 5.30517655741e-18)</td>\n",
       "    </tr>\n",
       "    <tr>\n",
       "      <th>15</th>\n",
       "      <td>4</td>\n",
       "      <td>1</td>\n",
       "      <td>(-11.8466318799, 2.25801146566e-32)</td>\n",
       "    </tr>\n",
       "    <tr>\n",
       "      <th>16</th>\n",
       "      <td>4</td>\n",
       "      <td>2</td>\n",
       "      <td>(28.981354722, 1.45873910445e-184)</td>\n",
       "    </tr>\n",
       "    <tr>\n",
       "      <th>17</th>\n",
       "      <td>4</td>\n",
       "      <td>3</td>\n",
       "      <td>(29.1745623621, 5.30687764038e-187)</td>\n",
       "    </tr>\n",
       "    <tr>\n",
       "      <th>18</th>\n",
       "      <td>4</td>\n",
       "      <td>4</td>\n",
       "      <td>(0.0, 1.0)</td>\n",
       "    </tr>\n",
       "    <tr>\n",
       "      <th>19</th>\n",
       "      <td>4</td>\n",
       "      <td>5</td>\n",
       "      <td>(29.8010691532, 5.79030200575e-195)</td>\n",
       "    </tr>\n",
       "    <tr>\n",
       "      <th>20</th>\n",
       "      <td>5</td>\n",
       "      <td>1</td>\n",
       "      <td>(-37.9202329795, 0.0)</td>\n",
       "    </tr>\n",
       "    <tr>\n",
       "      <th>21</th>\n",
       "      <td>5</td>\n",
       "      <td>2</td>\n",
       "      <td>(-8.37975316934, 5.31765468368e-17)</td>\n",
       "    </tr>\n",
       "    <tr>\n",
       "      <th>22</th>\n",
       "      <td>5</td>\n",
       "      <td>3</td>\n",
       "      <td>(-8.64694819308, 5.30517655741e-18)</td>\n",
       "    </tr>\n",
       "    <tr>\n",
       "      <th>23</th>\n",
       "      <td>5</td>\n",
       "      <td>4</td>\n",
       "      <td>(-29.8010691532, 5.79030200575e-195)</td>\n",
       "    </tr>\n",
       "    <tr>\n",
       "      <th>24</th>\n",
       "      <td>5</td>\n",
       "      <td>5</td>\n",
       "      <td>(0.0, 1.0)</td>\n",
       "    </tr>\n",
       "  </tbody>\n",
       "</table>\n",
       "</div>"
      ],
      "text/plain": [
       "    w1  w2                 (statistic, p_values)\n",
       "0    1   1                            (0.0, 1.0)\n",
       "1    1   2                  (39.8323206601, 0.0)\n",
       "2    1   3                  (40.1850384325, 0.0)\n",
       "3    1   4    (11.8466318799, 2.25801146566e-32)\n",
       "4    1   5                  (37.9202329795, 0.0)\n",
       "5    2   1                 (-39.8323206601, 0.0)\n",
       "6    2   2                            (0.0, 1.0)\n",
       "7    2   3       (-0.14214919032, 0.88696220452)\n",
       "8    2   4   (-28.981354722, 1.45873910445e-184)\n",
       "9    2   5    (8.37975316934, 5.31765468368e-17)\n",
       "10   3   1                 (-40.1850384325, 0.0)\n",
       "11   3   2        (0.14214919032, 0.88696220452)\n",
       "12   3   3                            (0.0, 1.0)\n",
       "13   3   4  (-29.1745623621, 5.30687764038e-187)\n",
       "14   3   5    (8.64694819308, 5.30517655741e-18)\n",
       "15   4   1   (-11.8466318799, 2.25801146566e-32)\n",
       "16   4   2    (28.981354722, 1.45873910445e-184)\n",
       "17   4   3   (29.1745623621, 5.30687764038e-187)\n",
       "18   4   4                            (0.0, 1.0)\n",
       "19   4   5   (29.8010691532, 5.79030200575e-195)\n",
       "20   5   1                 (-37.9202329795, 0.0)\n",
       "21   5   2   (-8.37975316934, 5.31765468368e-17)\n",
       "22   5   3   (-8.64694819308, 5.30517655741e-18)\n",
       "23   5   4  (-29.8010691532, 5.79030200575e-195)\n",
       "24   5   5                            (0.0, 1.0)"
      ]
     },
     "execution_count": 3,
     "metadata": {},
     "output_type": "execute_result"
    }
   ],
   "source": [
    "# ************ create speed varibale *******************\n",
    "df_new = df.copy()\n",
    "# converting the \"lpep_pickup_datetime\" and \"Lpep_dropoff_datetime\" to DateTime series\n",
    "df_new.loc[:, \"lpep_pickup_datetime\"] = pd.to_datetime(df_new.loc[:, \"lpep_pickup_datetime\"])\n",
    "df_new.loc[:, \"Lpep_dropoff_datetime\"] = pd.to_datetime(df_new.loc[:, \"Lpep_dropoff_datetime\"])\n",
    "# Trip Duration in minutes\n",
    "df_new.loc[:,'trip_duration'] = df_new.loc[:, \"Lpep_dropoff_datetime\"] - df_new.loc[:, \"lpep_pickup_datetime\"]\n",
    "df_new.loc[:,'trip_duration'] = df_new.loc[:,'trip_duration'].dt.total_seconds()/60\n",
    "# speed variable\n",
    "df_new.loc[:,'speed_mph'] = df_new.Trip_distance/(df_new.trip_duration/60)\n",
    "# remove transactions that speed in not in valid range\n",
    "df_new = df_new[((df_new.speed_mph>0) & (df_new.speed_mph<=240))]\n",
    "# week variable\n",
    "df_new.loc[:,'week'] = df_new[\"lpep_pickup_datetime\"].dt.week\n",
    "j = 1\n",
    "for i in range(36, 41):\n",
    "    df_new['week'].replace(i, j, inplace=True)\n",
    "    j = j+1\n",
    "# hour varibale\n",
    "df_new.loc[:,'hour'] = df_new[\"lpep_pickup_datetime\"].dt.hour\n",
    "\n",
    "# *********************** speed mean per week ***************\n",
    "res = df_new[['speed_mph','week']].groupby('week').mean()\n",
    "res.columns = ['speed_average']\n",
    "print  res\n",
    "# *********************** run t-test of pairs of weeks **********\n",
    "p_values = []\n",
    "weeks = df_new[\"week\"].unique()\n",
    "for i in weeks:\n",
    "    for j in weeks:\n",
    "        x = df_new[df_new.week==i].speed_mph\n",
    "        y = df_new[df_new.week==j].speed_mph\n",
    "        p = ttest_ind(x, y, False)\n",
    "        p_values.append((i, j, p))\n",
    "df_p_values = pd.DataFrame(p_values,columns=['w1','w2','(statistic, p_values)'])\n",
    "print \"\\n******statistic, p-values******\\n\"\n",
    "df_p_values"
   ]
  },
  {
   "cell_type": "markdown",
   "metadata": {},
   "source": [
    "###  Speed as a function of time of day\n",
    "I used the boxplots to see how the speed changes hourly. As the plot describes, speed is faster in the early morning and \n",
    "gets slower in the peak time around (3:00 pm - 7:00 pm).\n",
    "\n",
    "Also, I used one-way anova test to see what's the impact of hour on speed. The p-value of zero proves that \n",
    "the speed of all hours are significantly different. Therefore, speed is a function of time of day."
   ]
  },
  {
   "cell_type": "code",
   "execution_count": 4,
   "metadata": {
    "collapsed": false
   },
   "outputs": [
    {
     "data": {
      "image/png": "[encoded data removed]",
      "text/plain": [
       "<matplotlib.figure.Figure at 0x7fbb776843d0>"
      ]
     },
     "metadata": {},
     "output_type": "display_data"
    }
   ],
   "source": [
    "# boxplot\n",
    "df_new.boxplot('speed_mph','hour')\n",
    "plt.ylim([5,24]) # remove outliers\n",
    "plt.ylabel('Speed (mph)')\n",
    "plt.show()"
   ]
  },
  {
   "cell_type": "code",
   "execution_count": 5,
   "metadata": {
    "collapsed": false
   },
   "outputs": [
    {
     "name": "stdout",
     "output_type": "stream",
     "text": [
      "F_onewayResult(statistic=3556.0245124931162, pvalue=0.0)\n"
     ]
    }
   ],
   "source": [
    "# calculate anova\n",
    "\n",
    "archive = [df_new[df_new.hour==i].speed_mph.tolist() for i in range(0,24)]\n",
    "print f_oneway(*archive)\n"
   ]
  },
  {
   "cell_type": "code",
   "execution_count": null,
   "metadata": {
    "collapsed": true
   },
   "outputs": [],
   "source": []
  }
 ],
 "metadata": {
  "kernelspec": {
   "display_name": "Python [Root]",
   "language": "python",
   "name": "Python [Root]"
  },
  "language_info": {
   "codemirror_mode": {
    "name": "ipython",
    "version": 2
   },
   "file_extension": ".py",
   "mimetype": "text/x-python",
   "name": "python",
   "nbconvert_exporter": "python",
   "pygments_lexer": "ipython2",
   "version": "2.7.12"
  }
 },
 "nbformat": 4,
 "nbformat_minor": 1
}
