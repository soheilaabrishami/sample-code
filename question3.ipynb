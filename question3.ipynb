{
 "cells": [
  {
   "cell_type": "code",
   "execution_count": 1,
   "metadata": {
    "collapsed": true
   },
   "outputs": [],
   "source": [
    "import pandas as pd\n",
    "import matplotlib.pyplot as plt\n",
    "import warnings\n",
    "warnings.filterwarnings('ignore')"
   ]
  },
  {
   "cell_type": "code",
   "execution_count": 2,
   "metadata": {
    "collapsed": true
   },
   "outputs": [],
   "source": [
    "df = pd.read_csv(\"green_tripdata_2015-09.csv\")"
   ]
  },
  {
   "cell_type": "markdown",
   "metadata": {},
   "source": [
    "## Question 3 part1\n",
    "Report mean and median trip distance grouped by hour of day"
   ]
  },
  {
   "cell_type": "code",
   "execution_count": 3,
   "metadata": {
    "collapsed": false
   },
   "outputs": [
    {
     "data": {
      "text/html": [
       "<div>\n",
       "<table border=\"1\" class=\"dataframe\">\n",
       "  <thead>\n",
       "    <tr style=\"text-align: right;\">\n",
       "      <th></th>\n",
       "      <th>mean</th>\n",
       "      <th>median</th>\n",
       "    </tr>\n",
       "    <tr>\n",
       "      <th>hour</th>\n",
       "      <th></th>\n",
       "      <th></th>\n",
       "    </tr>\n",
       "  </thead>\n",
       "  <tbody>\n",
       "    <tr>\n",
       "      <th>0</th>\n",
       "      <td>3.115276</td>\n",
       "      <td>2.20</td>\n",
       "    </tr>\n",
       "    <tr>\n",
       "      <th>1</th>\n",
       "      <td>3.017347</td>\n",
       "      <td>2.12</td>\n",
       "    </tr>\n",
       "    <tr>\n",
       "      <th>2</th>\n",
       "      <td>3.046176</td>\n",
       "      <td>2.14</td>\n",
       "    </tr>\n",
       "    <tr>\n",
       "      <th>3</th>\n",
       "      <td>3.212945</td>\n",
       "      <td>2.20</td>\n",
       "    </tr>\n",
       "    <tr>\n",
       "      <th>4</th>\n",
       "      <td>3.526555</td>\n",
       "      <td>2.36</td>\n",
       "    </tr>\n",
       "    <tr>\n",
       "      <th>5</th>\n",
       "      <td>4.133474</td>\n",
       "      <td>2.90</td>\n",
       "    </tr>\n",
       "    <tr>\n",
       "      <th>6</th>\n",
       "      <td>4.055149</td>\n",
       "      <td>2.84</td>\n",
       "    </tr>\n",
       "    <tr>\n",
       "      <th>7</th>\n",
       "      <td>3.284394</td>\n",
       "      <td>2.17</td>\n",
       "    </tr>\n",
       "    <tr>\n",
       "      <th>8</th>\n",
       "      <td>3.048450</td>\n",
       "      <td>1.98</td>\n",
       "    </tr>\n",
       "    <tr>\n",
       "      <th>9</th>\n",
       "      <td>2.999105</td>\n",
       "      <td>1.96</td>\n",
       "    </tr>\n",
       "    <tr>\n",
       "      <th>10</th>\n",
       "      <td>2.944482</td>\n",
       "      <td>1.92</td>\n",
       "    </tr>\n",
       "    <tr>\n",
       "      <th>11</th>\n",
       "      <td>2.912015</td>\n",
       "      <td>1.88</td>\n",
       "    </tr>\n",
       "    <tr>\n",
       "      <th>12</th>\n",
       "      <td>2.903065</td>\n",
       "      <td>1.89</td>\n",
       "    </tr>\n",
       "    <tr>\n",
       "      <th>13</th>\n",
       "      <td>2.878294</td>\n",
       "      <td>1.84</td>\n",
       "    </tr>\n",
       "    <tr>\n",
       "      <th>14</th>\n",
       "      <td>2.864304</td>\n",
       "      <td>1.83</td>\n",
       "    </tr>\n",
       "    <tr>\n",
       "      <th>15</th>\n",
       "      <td>2.857040</td>\n",
       "      <td>1.81</td>\n",
       "    </tr>\n",
       "    <tr>\n",
       "      <th>16</th>\n",
       "      <td>2.779852</td>\n",
       "      <td>1.80</td>\n",
       "    </tr>\n",
       "    <tr>\n",
       "      <th>17</th>\n",
       "      <td>2.679114</td>\n",
       "      <td>1.78</td>\n",
       "    </tr>\n",
       "    <tr>\n",
       "      <th>18</th>\n",
       "      <td>2.653222</td>\n",
       "      <td>1.80</td>\n",
       "    </tr>\n",
       "    <tr>\n",
       "      <th>19</th>\n",
       "      <td>2.715597</td>\n",
       "      <td>1.85</td>\n",
       "    </tr>\n",
       "    <tr>\n",
       "      <th>20</th>\n",
       "      <td>2.777052</td>\n",
       "      <td>1.90</td>\n",
       "    </tr>\n",
       "    <tr>\n",
       "      <th>21</th>\n",
       "      <td>2.999189</td>\n",
       "      <td>2.03</td>\n",
       "    </tr>\n",
       "    <tr>\n",
       "      <th>22</th>\n",
       "      <td>3.185394</td>\n",
       "      <td>2.20</td>\n",
       "    </tr>\n",
       "    <tr>\n",
       "      <th>23</th>\n",
       "      <td>3.191538</td>\n",
       "      <td>2.22</td>\n",
       "    </tr>\n",
       "  </tbody>\n",
       "</table>\n",
       "</div>"
      ],
      "text/plain": [
       "          mean  median\n",
       "hour                  \n",
       "0     3.115276    2.20\n",
       "1     3.017347    2.12\n",
       "2     3.046176    2.14\n",
       "3     3.212945    2.20\n",
       "4     3.526555    2.36\n",
       "5     4.133474    2.90\n",
       "6     4.055149    2.84\n",
       "7     3.284394    2.17\n",
       "8     3.048450    1.98\n",
       "9     2.999105    1.96\n",
       "10    2.944482    1.92\n",
       "11    2.912015    1.88\n",
       "12    2.903065    1.89\n",
       "13    2.878294    1.84\n",
       "14    2.864304    1.83\n",
       "15    2.857040    1.81\n",
       "16    2.779852    1.80\n",
       "17    2.679114    1.78\n",
       "18    2.653222    1.80\n",
       "19    2.715597    1.85\n",
       "20    2.777052    1.90\n",
       "21    2.999189    2.03\n",
       "22    3.185394    2.20\n",
       "23    3.191538    2.22"
      ]
     },
     "execution_count": 3,
     "metadata": {},
     "output_type": "execute_result"
    }
   ],
   "source": [
    "# **********************  Question 3 part 1 ********************\n",
    "# choosing only two columns that are need (we use pickup date time)\n",
    "df_help = df.loc[:, ['lpep_pickup_datetime','Trip_distance']] \n",
    "# converting the \"lpep_pickup_datetime\" to DateTime series\n",
    "df_help.loc[:, \"lpep_pickup_datetime\"] = pd.to_datetime(df_help.loc[:, \"lpep_pickup_datetime\"])\n",
    "# take Hour from Datetime Column Directly\n",
    "df_help.loc[:, \"hour\"] = df_help.loc[:, \"lpep_pickup_datetime\"].dt.hour\n",
    "# calculate mean trip distance grouped by hour of day\n",
    "mean_dist_hour = df_help.groupby(['hour']).mean()\n",
    "# calculate median trip distance grouped by hour of day\n",
    "median_dist_hour = df_help.groupby(['hour']).median()\n",
    "df2 = mean_dist_hour\n",
    "df3 = median_dist_hour\n",
    "frames = [df2, df3]\n",
    "result = pd.concat(frames, axis=1)\n",
    "result.columns = ['mean', 'median']\n",
    "result"
   ]
  },
  {
   "cell_type": "markdown",
   "metadata": {
    "collapsed": true
   },
   "source": [
    "## Question 3 part 2: \n",
    "\n",
    "I used \"RateCodeID\" for finding those trips that originate or terminate at one of the NYC area airport. \n",
    "Because based on the dictionary of variables \"RateCodeID\" contains final rate code in effect at the end of the trip, \n",
    "and there are two values corresponding to Newark and JFK (two airports in Newyork)\n",
    "so I select those records that have RateCodeID 2 (JFK) or 3 (Newark)"
   ]
  },
  {
   "cell_type": "code",
   "execution_count": 4,
   "metadata": {
    "collapsed": false
   },
   "outputs": [
    {
     "name": "stdout",
     "output_type": "stream",
     "text": [
      "('number of total trips to/from airports in Newyork:', 5552)\n",
      "('average fair (+tip) of trips to/from airports in Newyork:', 57.20842038904719)\n",
      "('average fair (before tip) of trips to/from airports in Newyork:', 48.976945244956774)\n",
      "('average tip amount of trips to/from airports in Newyork:', 4.353515850144067)\n"
     ]
    }
   ],
   "source": [
    "df_air = df[df['RateCodeID'].isin([2, 3])]\n",
    "print (\"number of total trips to/from airports in Newyork:\" , len(df_air))\n",
    "print (\"average fair (+tip) of trips to/from airports in Newyork:\", df_air[\"Total_amount\"].mean())\n",
    "print (\"average fair (before tip) of trips to/from airports in Newyork:\", df_air[\"Fare_amount\"].mean())\n",
    "print (\"average tip amount of trips to/from airports in Newyork:\", df_air[\"Tip_amount\"].mean())"
   ]
  },
  {
   "cell_type": "markdown",
   "metadata": {},
   "source": [
    "### impact of time of day on the trip distance to/from airport\n",
    "\n",
    "1. I plot number of trips to/from airports per hour\n",
    "2. figure shows that maximum number of trips to/from NYC airport is around 15:00"
   ]
  },
  {
   "cell_type": "code",
   "execution_count": 7,
   "metadata": {
    "collapsed": false
   },
   "outputs": [
    {
     "data": {
      "image/png": "[encoded data removed]",
      "text/plain": [
       "<matplotlib.figure.Figure at 0x7fcfe014c710>"
      ]
     },
     "metadata": {},
     "output_type": "display_data"
    }
   ],
   "source": [
    "# plot number of trips to/from airports per hour\n",
    "\n",
    "df_air.loc[:, \"lpep_pickup_datetime\"] = pd.to_datetime(df_air.loc[:, \"lpep_pickup_datetime\"])\n",
    "# take Hour from Datetime Column Directly\n",
    "df_air.loc[:, \"hour\"] = df_air.loc[:, \"lpep_pickup_datetime\"].dt.hour\n",
    "\n",
    "y = df_air.hour.value_counts().sort_index()\n",
    "x = [i for i in range(0,24)]\n",
    "fig, ax = plt.subplots(1)\n",
    "plt.xlabel('Hours')\n",
    "plt.ylabel(\"Number of  airport trips\")\n",
    "plt.title('Number of airport trips hourly')\n",
    "plt.plot(x, y,  color = \"g\")\n",
    "plt.legend(['Airport trips'], loc='best')\n",
    "plt.show()\n",
    "# plt.savefig(\"Q3_2\", format = 'pdf')"
   ]
  },
  {
   "cell_type": "markdown",
   "metadata": {},
   "source": [
    "### distance distribution of trips to/from airports\n",
    "\n",
    "As figure describes there are two peak, those airport trips that are less than 2 miles\n",
    "and other airport trips that are around 18 miles"
   ]
  },
  {
   "cell_type": "code",
   "execution_count": 8,
   "metadata": {
    "collapsed": false
   },
   "outputs": [
    {
     "data": {
      "image/png": "[encoded data removed]",
      "text/plain": [
       "<matplotlib.figure.Figure at 0x7fcfb8bb1150>"
      ]
     },
     "metadata": {},
     "output_type": "display_data"
    }
   ],
   "source": [
    "# plot distance of trips to/from airports (miles)\n",
    "import numpy as np\n",
    "x = df_air.loc[:, \"Trip_distance\"]\n",
    "# Remove outliers (+/- 3 std)\n",
    "outlier = (x-x.median()).abs()>3*x.std()\n",
    "x = x[~(outlier)]\n",
    "bins = np.histogram(x)[1]\n",
    "h2 = np.histogram(x,bins=bins)\n",
    "w = .75*(bins[1]-bins[0])\n",
    "fig, ax = plt.subplots(1)\n",
    "plt.bar(bins[:-1],h2[0],alpha=1,width=w,color='g')\n",
    "plt.xlabel('Distance (miles)')\n",
    "plt.ylabel(\"Number of airport trips\")\n",
    "plt.title('Trip (to/from airports) distance distribution ')\n",
    "plt.show()\n"
   ]
  },
  {
   "cell_type": "code",
   "execution_count": null,
   "metadata": {
    "collapsed": true
   },
   "outputs": [],
   "source": []
  }
 ],
 "metadata": {
  "kernelspec": {
   "display_name": "Python [Root]",
   "language": "python",
   "name": "Python [Root]"
  },
  "language_info": {
   "codemirror_mode": {
    "name": "ipython",
    "version": 2
   },
   "file_extension": ".py",
   "mimetype": "text/x-python",
   "name": "python",
   "nbconvert_exporter": "python",
   "pygments_lexer": "ipython2",
   "version": "2.7.12"
  }
 },
 "nbformat": 4,
 "nbformat_minor": 1
}
